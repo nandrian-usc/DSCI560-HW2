{
 "cells": [
  {
   "cell_type": "markdown",
   "metadata": {},
   "source": [
    "# 1.a. First script (x1000RandomNumberGenerator.py) \n",
    "\n",
    "Purpose: generate 1000 random integer numbers ranging from 0 to 100 and save it into a csv file (newline-separated) named 1000_x-axis_random_number_ranging_0_to_100.csv. The 1000 generated number later would serve as x-axis points in a line plot chart.\n",
    "\n",
    "Usage: (python) x1000RandomNumberGenerator.py\n"
   ]
  },
  {
   "cell_type": "code",
   "execution_count": 1,
   "metadata": {},
   "outputs": [
    {
     "data": {
      "image/png": "[encoded data removed]",
      "text/plain": [
       "<Figure size 432x288 with 1 Axes>"
      ]
     },
     "metadata": {
      "needs_background": "light"
     },
     "output_type": "display_data"
    },
    {
     "name": "stdout",
     "output_type": "stream",
     "text": [
      "Generate 1000 random numbers for x-axis ranging in 0-100.\n",
      "Random number distribution -> (Key number : # count of number)\n",
      "0 : 10\n",
      "1 : 15\n",
      "2 : 13\n",
      "3 : 14\n",
      "4 : 8\n",
      "5 : 8\n",
      "6 : 5\n",
      "7 : 10\n",
      "8 : 10\n",
      "9 : 14\n",
      "10 : 7\n",
      "11 : 12\n",
      "12 : 7\n",
      "13 : 16\n",
      "14 : 6\n",
      "15 : 10\n",
      "16 : 18\n",
      "17 : 11\n",
      "18 : 6\n",
      "19 : 6\n",
      "20 : 9\n",
      "21 : 12\n",
      "22 : 12\n",
      "23 : 11\n",
      "24 : 7\n",
      "25 : 12\n",
      "26 : 8\n",
      "27 : 13\n",
      "28 : 8\n",
      "29 : 14\n",
      "30 : 11\n",
      "31 : 12\n",
      "32 : 8\n",
      "33 : 8\n",
      "34 : 11\n",
      "35 : 8\n",
      "36 : 8\n",
      "37 : 9\n",
      "38 : 11\n",
      "39 : 5\n",
      "40 : 8\n",
      "41 : 13\n",
      "42 : 10\n",
      "43 : 10\n",
      "44 : 12\n",
      "45 : 7\n",
      "46 : 10\n",
      "47 : 7\n",
      "48 : 14\n",
      "49 : 10\n",
      "50 : 7\n",
      "51 : 11\n",
      "52 : 20\n",
      "53 : 9\n",
      "54 : 13\n",
      "55 : 10\n",
      "56 : 12\n",
      "57 : 4\n",
      "58 : 14\n",
      "59 : 15\n",
      "60 : 11\n",
      "61 : 8\n",
      "62 : 13\n",
      "63 : 12\n",
      "64 : 9\n",
      "65 : 3\n",
      "66 : 10\n",
      "67 : 8\n",
      "68 : 7\n",
      "69 : 12\n",
      "70 : 11\n",
      "71 : 11\n",
      "72 : 6\n",
      "73 : 8\n",
      "74 : 11\n",
      "75 : 7\n",
      "76 : 7\n",
      "77 : 5\n",
      "78 : 4\n",
      "79 : 14\n",
      "80 : 16\n",
      "81 : 12\n",
      "82 : 15\n",
      "83 : 6\n",
      "84 : 13\n",
      "85 : 10\n",
      "86 : 4\n",
      "87 : 11\n",
      "88 : 8\n",
      "89 : 6\n",
      "90 : 12\n",
      "91 : 14\n",
      "92 : 9\n",
      "93 : 11\n",
      "94 : 8\n",
      "95 : 6\n",
      "96 : 10\n",
      "97 : 7\n",
      "98 : 5\n",
      "99 : 12\n",
      "100 : 9\n"
     ]
    }
   ],
   "source": [
    "%matplotlib inline\n",
    "%run -i x1000RandomNumberGenerator.py"
   ]
  },
  {
   "cell_type": "markdown",
   "metadata": {},
   "source": [
    "# 1.b. Second script (y1000FormulaNumberGenerator.py)\n",
    "\n",
    "Purpose: generate 1000 y-points integer numbers based on previous x-points using formula of y = 3x + 6. It first read 1000_x-axis_random_number_ranging_0_to_100.csv file located in same folder and output a file named 1000_y-axis_number_by_3x_plus_6.csv (newline-separated)\n",
    "\n",
    "Usage: (python) y1000FormulaNumberGenerator.py"
   ]
  },
  {
   "cell_type": "code",
   "execution_count": 2,
   "metadata": {},
   "outputs": [
    {
     "data": {
      "image/png": "[encoded data removed]",
      "text/plain": [
       "<Figure size 432x288 with 1 Axes>"
      ]
     },
     "metadata": {
      "needs_background": "light"
     },
     "output_type": "display_data"
    },
    {
     "name": "stdout",
     "output_type": "stream",
     "text": [
      "Generate 1000 y-axis numbers using y = 3x + 6 formula\n",
      "y-axis number distribution = (x -> y : # count of number)\n",
      "0 -> 6 : 10\n",
      "1 -> 9 : 15\n",
      "2 -> 12 : 13\n",
      "3 -> 15 : 14\n",
      "4 -> 18 : 8\n",
      "5 -> 21 : 8\n",
      "6 -> 24 : 5\n",
      "7 -> 27 : 10\n",
      "8 -> 30 : 10\n",
      "9 -> 33 : 14\n",
      "10 -> 36 : 7\n",
      "11 -> 39 : 12\n",
      "12 -> 42 : 7\n",
      "13 -> 45 : 16\n",
      "14 -> 48 : 6\n",
      "15 -> 51 : 10\n",
      "16 -> 54 : 18\n",
      "17 -> 57 : 11\n",
      "18 -> 60 : 6\n",
      "19 -> 63 : 6\n",
      "20 -> 66 : 9\n",
      "21 -> 69 : 12\n",
      "22 -> 72 : 12\n",
      "23 -> 75 : 11\n",
      "24 -> 78 : 7\n",
      "25 -> 81 : 12\n",
      "26 -> 84 : 8\n",
      "27 -> 87 : 13\n",
      "28 -> 90 : 8\n",
      "29 -> 93 : 14\n",
      "30 -> 96 : 11\n",
      "31 -> 99 : 12\n",
      "32 -> 102 : 8\n",
      "33 -> 105 : 8\n",
      "34 -> 108 : 11\n",
      "35 -> 111 : 8\n",
      "36 -> 114 : 8\n",
      "37 -> 117 : 9\n",
      "38 -> 120 : 11\n",
      "39 -> 123 : 5\n",
      "40 -> 126 : 8\n",
      "41 -> 129 : 13\n",
      "42 -> 132 : 10\n",
      "43 -> 135 : 10\n",
      "44 -> 138 : 12\n",
      "45 -> 141 : 7\n",
      "46 -> 144 : 10\n",
      "47 -> 147 : 7\n",
      "48 -> 150 : 14\n",
      "49 -> 153 : 10\n",
      "50 -> 156 : 7\n",
      "51 -> 159 : 11\n",
      "52 -> 162 : 20\n",
      "53 -> 165 : 9\n",
      "54 -> 168 : 13\n",
      "55 -> 171 : 10\n",
      "56 -> 174 : 12\n",
      "57 -> 177 : 4\n",
      "58 -> 180 : 14\n",
      "59 -> 183 : 15\n",
      "60 -> 186 : 11\n",
      "61 -> 189 : 8\n",
      "62 -> 192 : 13\n",
      "63 -> 195 : 12\n",
      "64 -> 198 : 9\n",
      "65 -> 201 : 3\n",
      "66 -> 204 : 10\n",
      "67 -> 207 : 8\n",
      "68 -> 210 : 7\n",
      "69 -> 213 : 12\n",
      "70 -> 216 : 11\n",
      "71 -> 219 : 11\n",
      "72 -> 222 : 6\n",
      "73 -> 225 : 8\n",
      "74 -> 228 : 11\n",
      "75 -> 231 : 7\n",
      "76 -> 234 : 7\n",
      "77 -> 237 : 5\n",
      "78 -> 240 : 4\n",
      "79 -> 243 : 14\n",
      "80 -> 246 : 16\n",
      "81 -> 249 : 12\n",
      "82 -> 252 : 15\n",
      "83 -> 255 : 6\n",
      "84 -> 258 : 13\n",
      "85 -> 261 : 10\n",
      "86 -> 264 : 4\n",
      "87 -> 267 : 11\n",
      "88 -> 270 : 8\n",
      "89 -> 273 : 6\n",
      "90 -> 276 : 12\n",
      "91 -> 279 : 14\n",
      "92 -> 282 : 9\n",
      "93 -> 285 : 11\n",
      "94 -> 288 : 8\n",
      "95 -> 291 : 6\n",
      "96 -> 294 : 10\n",
      "97 -> 297 : 7\n",
      "98 -> 300 : 5\n",
      "99 -> 303 : 12\n",
      "100 -> 306 : 9\n"
     ]
    }
   ],
   "source": [
    "%matplotlib inline\n",
    "%run -i y1000FormulaNumberGenerator.py"
   ]
  },
  {
   "cell_type": "markdown",
   "metadata": {},
   "source": [
    "# 1.c. Third script (xy1000VisualizePlotline.py)\n",
    "\n",
    "Purpose: Visualize a line chart using previous x-points and y-points. It reads 1000_x-axis_random_number_ranging_0_to_100.csv and 1000_y-axis_number_by_3x_plus_6.csv which should be located in same folder and output .png file of the line plot.\n",
    "\n",
    "Usage: (python) xy1000VisualizePlotline.py\n",
    "\n",
    "Before execution need to call %matplotlib inline so that image can be rendered inside notebook"
   ]
  },
  {
   "cell_type": "code",
   "execution_count": 3,
   "metadata": {},
   "outputs": [
    {
     "data": {
      "image/png": "[encoded data removed]",
      "text/plain": [
       "<Figure size 432x288 with 1 Axes>"
      ]
     },
     "metadata": {
      "needs_background": "light"
     },
     "output_type": "display_data"
    }
   ],
   "source": [
    "%matplotlib inline\n",
    "%run -i xy1000VisualizePlotline.py"
   ]
  },
  {
   "cell_type": "code",
   "execution_count": null,
   "metadata": {},
   "outputs": [],
   "source": []
  }
 ],
 "metadata": {
  "kernelspec": {
   "display_name": "Python 3",
   "language": "python",
   "name": "python3"
  },
  "language_info": {
   "codemirror_mode": {
    "name": "ipython",
    "version": 3
   },
   "file_extension": ".py",
   "mimetype": "text/x-python",
   "name": "python",
   "nbconvert_exporter": "python",
   "pygments_lexer": "ipython3",
   "version": "3.8.3"
  }
 },
 "nbformat": 4,
 "nbformat_minor": 2
}
