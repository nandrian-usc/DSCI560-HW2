{
 "cells": [
  {
   "cell_type": "markdown",
   "metadata": {},
   "source": [
    "# 1.a. First script (x1000RandomNumberGenerator.py) \n",
    "\n",
    "Purpose: generate 1000 random integer numbers ranging from 0 to 100 and save it into a csv file (newline-separated) named 1000_x-axis_random_number_ranging_0_to_100.csv. The 1000 generated number later would serve as x-axis points in a line plot chart.\n",
    "\n",
    "Usage: (python) x1000RandomNumberGenerator.py\n"
   ]
  },
  {
   "cell_type": "code",
   "execution_count": 1,
   "metadata": {},
   "outputs": [
    {
     "data": {
      "image/png": "[encoded data removed]",
      "text/plain": [
       "<Figure size 432x288 with 1 Axes>"
      ]
     },
     "metadata": {
      "needs_background": "light"
     },
     "output_type": "display_data"
    },
    {
     "name": "stdout",
     "output_type": "stream",
     "text": [
      "Generate 1000 random numbers for x-axis ranging in 0-100.\n",
      "Random number distribution -> (Key number : # count of number)\n",
      "0 : 12\n",
      "1 : 9\n",
      "2 : 8\n",
      "3 : 17\n",
      "4 : 13\n",
      "5 : 9\n",
      "6 : 11\n",
      "7 : 12\n",
      "8 : 12\n",
      "9 : 11\n",
      "10 : 9\n",
      "11 : 12\n",
      "12 : 6\n",
      "13 : 8\n",
      "14 : 8\n",
      "15 : 10\n",
      "16 : 8\n",
      "17 : 10\n",
      "18 : 15\n",
      "19 : 4\n",
      "20 : 9\n",
      "21 : 14\n",
      "22 : 14\n",
      "23 : 12\n",
      "24 : 9\n",
      "25 : 6\n",
      "26 : 6\n",
      "27 : 7\n",
      "28 : 10\n",
      "29 : 15\n",
      "30 : 7\n",
      "31 : 12\n",
      "32 : 7\n",
      "33 : 6\n",
      "34 : 8\n",
      "35 : 7\n",
      "36 : 7\n",
      "37 : 13\n",
      "38 : 6\n",
      "39 : 13\n",
      "40 : 8\n",
      "41 : 7\n",
      "42 : 18\n",
      "43 : 10\n",
      "44 : 12\n",
      "45 : 9\n",
      "46 : 16\n",
      "47 : 6\n",
      "48 : 7\n",
      "49 : 10\n",
      "50 : 11\n",
      "51 : 6\n",
      "52 : 11\n",
      "53 : 7\n",
      "54 : 9\n",
      "55 : 10\n",
      "56 : 7\n",
      "57 : 15\n",
      "58 : 6\n",
      "59 : 9\n",
      "60 : 12\n",
      "61 : 9\n",
      "62 : 9\n",
      "63 : 8\n",
      "64 : 11\n",
      "65 : 15\n",
      "66 : 9\n",
      "67 : 4\n",
      "68 : 7\n",
      "69 : 6\n",
      "70 : 11\n",
      "71 : 8\n",
      "72 : 6\n",
      "73 : 14\n",
      "74 : 6\n",
      "75 : 10\n",
      "76 : 10\n",
      "77 : 5\n",
      "78 : 11\n",
      "79 : 9\n",
      "80 : 14\n",
      "81 : 12\n",
      "82 : 11\n",
      "83 : 10\n",
      "84 : 7\n",
      "85 : 9\n",
      "86 : 12\n",
      "87 : 9\n",
      "88 : 18\n",
      "89 : 14\n",
      "90 : 18\n",
      "91 : 10\n",
      "92 : 10\n",
      "93 : 8\n",
      "94 : 6\n",
      "95 : 9\n",
      "96 : 11\n",
      "97 : 10\n",
      "98 : 9\n",
      "99 : 16\n",
      "100 : 11\n"
     ]
    }
   ],
   "source": [
    "%matplotlib inline\n",
    "%run -i x1000RandomNumberGenerator.py"
   ]
  },
  {
   "cell_type": "markdown",
   "metadata": {},
   "source": [
    "# 1.b. Second script (y1000FormulaNumberGenerator.py)\n",
    "\n",
    "Purpose: generate 1000 y-points integer numbers based on previous x-points using formula of y = 3x + 6. It first read 1000_x-axis_random_number_ranging_0_to_100.csv file located in same folder and output a file named 1000_y-axis_number_by_3x_plus_6.csv (newline-separated)\n",
    "\n",
    "Usage: (python) y1000FormulaNumberGenerator.py"
   ]
  },
  {
   "cell_type": "code",
   "execution_count": 2,
   "metadata": {},
   "outputs": [
    {
     "data": {
      "image/png": "[encoded data removed]",
      "text/plain": [
       "<Figure size 432x288 with 1 Axes>"
      ]
     },
     "metadata": {
      "needs_background": "light"
     },
     "output_type": "display_data"
    },
    {
     "name": "stdout",
     "output_type": "stream",
     "text": [
      "Generate 1000 y-axis numbers using y = 3x + 6 formula\n",
      "y-axis number distribution = (x -> y : # count of number)\n",
      "0 -> 6 : 12\n",
      "1 -> 9 : 9\n",
      "2 -> 12 : 8\n",
      "3 -> 15 : 17\n",
      "4 -> 18 : 13\n",
      "5 -> 21 : 9\n",
      "6 -> 24 : 11\n",
      "7 -> 27 : 12\n",
      "8 -> 30 : 12\n",
      "9 -> 33 : 11\n",
      "10 -> 36 : 9\n",
      "11 -> 39 : 12\n",
      "12 -> 42 : 6\n",
      "13 -> 45 : 8\n",
      "14 -> 48 : 8\n",
      "15 -> 51 : 10\n",
      "16 -> 54 : 8\n",
      "17 -> 57 : 10\n",
      "18 -> 60 : 15\n",
      "19 -> 63 : 4\n",
      "20 -> 66 : 9\n",
      "21 -> 69 : 14\n",
      "22 -> 72 : 14\n",
      "23 -> 75 : 12\n",
      "24 -> 78 : 9\n",
      "25 -> 81 : 6\n",
      "26 -> 84 : 6\n",
      "27 -> 87 : 7\n",
      "28 -> 90 : 10\n",
      "29 -> 93 : 15\n",
      "30 -> 96 : 7\n",
      "31 -> 99 : 12\n",
      "32 -> 102 : 7\n",
      "33 -> 105 : 6\n",
      "34 -> 108 : 8\n",
      "35 -> 111 : 7\n",
      "36 -> 114 : 7\n",
      "37 -> 117 : 13\n",
      "38 -> 120 : 6\n",
      "39 -> 123 : 13\n",
      "40 -> 126 : 8\n",
      "41 -> 129 : 7\n",
      "42 -> 132 : 18\n",
      "43 -> 135 : 10\n",
      "44 -> 138 : 12\n",
      "45 -> 141 : 9\n",
      "46 -> 144 : 16\n",
      "47 -> 147 : 6\n",
      "48 -> 150 : 7\n",
      "49 -> 153 : 10\n",
      "50 -> 156 : 11\n",
      "51 -> 159 : 6\n",
      "52 -> 162 : 11\n",
      "53 -> 165 : 7\n",
      "54 -> 168 : 9\n",
      "55 -> 171 : 10\n",
      "56 -> 174 : 7\n",
      "57 -> 177 : 15\n",
      "58 -> 180 : 6\n",
      "59 -> 183 : 9\n",
      "60 -> 186 : 12\n",
      "61 -> 189 : 9\n",
      "62 -> 192 : 9\n",
      "63 -> 195 : 8\n",
      "64 -> 198 : 11\n",
      "65 -> 201 : 15\n",
      "66 -> 204 : 9\n",
      "67 -> 207 : 4\n",
      "68 -> 210 : 7\n",
      "69 -> 213 : 6\n",
      "70 -> 216 : 11\n",
      "71 -> 219 : 8\n",
      "72 -> 222 : 6\n",
      "73 -> 225 : 14\n",
      "74 -> 228 : 6\n",
      "75 -> 231 : 10\n",
      "76 -> 234 : 10\n",
      "77 -> 237 : 5\n",
      "78 -> 240 : 11\n",
      "79 -> 243 : 9\n",
      "80 -> 246 : 14\n",
      "81 -> 249 : 12\n",
      "82 -> 252 : 11\n",
      "83 -> 255 : 10\n",
      "84 -> 258 : 7\n",
      "85 -> 261 : 9\n",
      "86 -> 264 : 12\n",
      "87 -> 267 : 9\n",
      "88 -> 270 : 18\n",
      "89 -> 273 : 14\n",
      "90 -> 276 : 18\n",
      "91 -> 279 : 10\n",
      "92 -> 282 : 10\n",
      "93 -> 285 : 8\n",
      "94 -> 288 : 6\n",
      "95 -> 291 : 9\n",
      "96 -> 294 : 11\n",
      "97 -> 297 : 10\n",
      "98 -> 300 : 9\n",
      "99 -> 303 : 16\n",
      "100 -> 306 : 11\n"
     ]
    }
   ],
   "source": [
    "%matplotlib inline\n",
    "%run -i y1000FormulaNumberGenerator.py"
   ]
  },
  {
   "cell_type": "markdown",
   "metadata": {},
   "source": [
    "# 1.c. Third script (xy1000VisualizePlotline.py)\n",
    "\n",
    "Purpose: Visualize a line chart using previous x-points and y-points. It reads 1000_x-axis_random_number_ranging_0_to_100.csv and 1000_y-axis_number_by_3x_plus_6.csv which should be located in same folder and output .png file of the line plot.\n",
    "\n",
    "Usage: (python) xy1000VisualizePlotline.py\n",
    "\n",
    "Before execution need to call %matplotlib inline so that image can be rendered inside notebook"
   ]
  },
  {
   "cell_type": "code",
   "execution_count": 3,
   "metadata": {},
   "outputs": [
    {
     "data": {
      "image/png": "[encoded data removed]",
      "text/plain": [
       "<Figure size 432x288 with 1 Axes>"
      ]
     },
     "metadata": {
      "needs_background": "light"
     },
     "output_type": "display_data"
    }
   ],
   "source": [
    "%matplotlib inline\n",
    "%run -i xy1000VisualizePlotline.py"
   ]
  },
  {
   "cell_type": "code",
   "execution_count": null,
   "metadata": {},
   "outputs": [],
   "source": []
  }
 ],
 "metadata": {
  "kernelspec": {
   "display_name": "Python 3",
   "language": "python",
   "name": "python3"
  },
  "language_info": {
   "codemirror_mode": {
    "name": "ipython",
    "version": 3
   },
   "file_extension": ".py",
   "mimetype": "text/x-python",
   "name": "python",
   "nbconvert_exporter": "python",
   "pygments_lexer": "ipython3",
   "version": "3.8.3"
  }
 },
 "nbformat": 4,
 "nbformat_minor": 2
}
