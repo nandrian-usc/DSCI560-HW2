{
 "cells": [
  {
   "cell_type": "markdown",
   "metadata": {},
   "source": [
    "# 1.a. First script (x1000.py) \n",
    "\n",
    "Purpose: generate 1000 random integer numbers ranging from 0 to 100 and save it into a csv file (newline-separated) named x.csv. The 1000 generated number later would serve as x-axis points in a line plot chart.\n",
    "\n",
    "Usage: (python) random1000.py\n"
   ]
  },
  {
   "cell_type": "code",
   "execution_count": 1,
   "metadata": {},
   "outputs": [
    {
     "name": "stdout",
     "output_type": "stream",
     "text": [
      "Generate 1000 random numbers\n"
     ]
    }
   ],
   "source": [
    "%run -i x1000.py"
   ]
  },
  {
   "cell_type": "markdown",
   "metadata": {},
   "source": [
    "# 1.b. Second script (y1000.py)\n",
    "\n",
    "Purpose: generate 1000 y-points integer numbers based on previous x-points using formula of y = 3x + 6. It first read x.csv file located in same folder and output a file named y.csv (newline-separated)\n",
    "\n",
    "Usage: (python) y1000.py"
   ]
  },
  {
   "cell_type": "code",
   "execution_count": 2,
   "metadata": {},
   "outputs": [
    {
     "name": "stdout",
     "output_type": "stream",
     "text": [
      "Generate 1000 y numbers\n"
     ]
    }
   ],
   "source": [
    "%run -i y1000.py"
   ]
  },
  {
   "cell_type": "markdown",
   "metadata": {},
   "source": [
    "# 1.c. Third script (visual1000.py)\n",
    "\n",
    "Purpose: Visualize a line chart using previous x-points and y-points. It reads x.csv and y.csv which should be located in same folder and output .png file of the line plot.\n",
    "\n",
    "Usage: (python) y1000.py\n",
    "\n",
    "Before execution need to call %matplotlib inline so that image can be rendered inside notebook"
   ]
  },
  {
   "cell_type": "code",
   "execution_count": 3,
   "metadata": {},
   "outputs": [
    {
     "data": {
      "image/png": "[encoded data removed]",
      "text/plain": [
       "<Figure size 432x288 with 1 Axes>"
      ]
     },
     "metadata": {
      "needs_background": "light"
     },
     "output_type": "display_data"
    }
   ],
   "source": [
    "%matplotlib inline\n",
    "%run -i visual1000.py"
   ]
  },
  {
   "cell_type": "code",
   "execution_count": null,
   "metadata": {},
   "outputs": [],
   "source": []
  }
 ],
 "metadata": {
  "kernelspec": {
   "display_name": "Python 3",
   "language": "python",
   "name": "python3"
  },
  "language_info": {
   "codemirror_mode": {
    "name": "ipython",
    "version": 3
   },
   "file_extension": ".py",
   "mimetype": "text/x-python",
   "name": "python",
   "nbconvert_exporter": "python",
   "pygments_lexer": "ipython3",
   "version": "3.7.3"
  }
 },
 "nbformat": 4,
 "nbformat_minor": 2
}
